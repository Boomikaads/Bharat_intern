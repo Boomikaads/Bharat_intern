{
  "nbformat": 4,
  "nbformat_minor": 0,
  "metadata": {
    "colab": {
      "provenance": []
    },
    "kernelspec": {
      "name": "python3",
      "display_name": "Python 3"
    },
    "language_info": {
      "name": "python"
    }
  },
  "cells": [
    {
      "cell_type": "code",
      "execution_count": null,
      "metadata": {
        "id": "js0hQnS7-v0e"
      },
      "outputs": [],
      "source": [
        "import warnings\n",
        "import numpy as np\n",
        "import pandas as pd\n",
        "import matplotlib.pyplot as plt\n",
        "import seaborn as sns\n",
        "plt.style.use('fivethirtyeight')\n",
        "%matplotlib inline\n",
        "warnings.filterwarnings('ignore')"
      ]
    },
    {
      "cell_type": "code",
      "source": [
        "train = pd.read_csv('train.csv')\n",
        "test = pd.read_csv('test.csv')\n",
        "train.shape"
      ],
      "metadata": {
        "colab": {
          "base_uri": "https://localhost:8080/"
        },
        "id": "xKfsCnjdEhBu",
        "outputId": "eea01fb6-9069-4556-c6db-0fa41b9fa7f8"
      },
      "execution_count": null,
      "outputs": [
        {
          "output_type": "execute_result",
          "data": {
            "text/plain": [
              "(891, 12)"
            ]
          },
          "metadata": {},
          "execution_count": 67
        }
      ]
    },
    {
      "cell_type": "code",
      "source": [
        "train.info()"
      ],
      "metadata": {
        "colab": {
          "base_uri": "https://localhost:8080/"
        },
        "id": "8rlRPht7_h8m",
        "outputId": "1c4d3e05-2d4c-4715-8722-83473e1d7078"
      },
      "execution_count": null,
      "outputs": [
        {
          "output_type": "stream",
          "name": "stdout",
          "text": [
            "<class 'pandas.core.frame.DataFrame'>\n",
            "RangeIndex: 891 entries, 0 to 890\n",
            "Data columns (total 12 columns):\n",
            " #   Column       Non-Null Count  Dtype  \n",
            "---  ------       --------------  -----  \n",
            " 0   PassengerId  891 non-null    int64  \n",
            " 1   Survived     891 non-null    int64  \n",
            " 2   Pclass       891 non-null    int64  \n",
            " 3   Name         891 non-null    object \n",
            " 4   Sex          891 non-null    object \n",
            " 5   Age          714 non-null    float64\n",
            " 6   SibSp        891 non-null    int64  \n",
            " 7   Parch        891 non-null    int64  \n",
            " 8   Ticket       891 non-null    object \n",
            " 9   Fare         891 non-null    float64\n",
            " 10  Cabin        204 non-null    object \n",
            " 11  Embarked     889 non-null    object \n",
            "dtypes: float64(2), int64(5), object(5)\n",
            "memory usage: 83.7+ KB\n"
          ]
        }
      ]
    },
    {
      "cell_type": "code",
      "source": [
        "train.isnull().sum()"
      ],
      "metadata": {
        "colab": {
          "base_uri": "https://localhost:8080/"
        },
        "id": "6K395SQE_h9t",
        "outputId": "a5a50530-2b45-4c5e-b91b-c02369f27069"
      },
      "execution_count": null,
      "outputs": [
        {
          "output_type": "execute_result",
          "data": {
            "text/plain": [
              "PassengerId      0\n",
              "Survived         0\n",
              "Pclass           0\n",
              "Name             0\n",
              "Sex              0\n",
              "Age            177\n",
              "SibSp            0\n",
              "Parch            0\n",
              "Ticket           0\n",
              "Fare             0\n",
              "Cabin          687\n",
              "Embarked         2\n",
              "dtype: int64"
            ]
          },
          "metadata": {},
          "execution_count": 70
        }
      ]
    },
    {
      "cell_type": "code",
      "source": [
        "train.describe()"
      ],
      "metadata": {
        "colab": {
          "base_uri": "https://localhost:8080/",
          "height": 300
        },
        "id": "eLkbQEpxLQ8L",
        "outputId": "501babf5-056c-4e11-c8e5-815ac438c3fb"
      },
      "execution_count": null,
      "outputs": [
        {
          "output_type": "execute_result",
          "data": {
            "text/plain": [
              "       PassengerId    Survived      Pclass         Age       SibSp  \\\n",
              "count   891.000000  891.000000  891.000000  714.000000  891.000000   \n",
              "mean    446.000000    0.383838    2.308642   29.699118    0.523008   \n",
              "std     257.353842    0.486592    0.836071   14.526497    1.102743   \n",
              "min       1.000000    0.000000    1.000000    0.420000    0.000000   \n",
              "25%     223.500000    0.000000    2.000000   20.125000    0.000000   \n",
              "50%     446.000000    0.000000    3.000000   28.000000    0.000000   \n",
              "75%     668.500000    1.000000    3.000000   38.000000    1.000000   \n",
              "max     891.000000    1.000000    3.000000   80.000000    8.000000   \n",
              "\n",
              "            Parch        Fare  \n",
              "count  891.000000  891.000000  \n",
              "mean     0.381594   32.204208  \n",
              "std      0.806057   49.693429  \n",
              "min      0.000000    0.000000  \n",
              "25%      0.000000    7.910400  \n",
              "50%      0.000000   14.454200  \n",
              "75%      0.000000   31.000000  \n",
              "max      6.000000  512.329200  "
            ],
            "text/html": [
              "\n",
              "  <div id=\"df-2234ca41-b17e-46d0-985c-16a4ca25dc0b\" class=\"colab-df-container\">\n",
              "    <div>\n",
              "<style scoped>\n",
              "    .dataframe tbody tr th:only-of-type {\n",
              "        vertical-align: middle;\n",
              "    }\n",
              "\n",
              "    .dataframe tbody tr th {\n",
              "        vertical-align: top;\n",
              "    }\n",
              "\n",
              "    .dataframe thead th {\n",
              "        text-align: right;\n",
              "    }\n",
              "</style>\n",
              "<table border=\"1\" class=\"dataframe\">\n",
              "  <thead>\n",
              "    <tr style=\"text-align: right;\">\n",
              "      <th></th>\n",
              "      <th>PassengerId</th>\n",
              "      <th>Survived</th>\n",
              "      <th>Pclass</th>\n",
              "      <th>Age</th>\n",
              "      <th>SibSp</th>\n",
              "      <th>Parch</th>\n",
              "      <th>Fare</th>\n",
              "    </tr>\n",
              "  </thead>\n",
              "  <tbody>\n",
              "    <tr>\n",
              "      <th>count</th>\n",
              "      <td>891.000000</td>\n",
              "      <td>891.000000</td>\n",
              "      <td>891.000000</td>\n",
              "      <td>714.000000</td>\n",
              "      <td>891.000000</td>\n",
              "      <td>891.000000</td>\n",
              "      <td>891.000000</td>\n",
              "    </tr>\n",
              "    <tr>\n",
              "      <th>mean</th>\n",
              "      <td>446.000000</td>\n",
              "      <td>0.383838</td>\n",
              "      <td>2.308642</td>\n",
              "      <td>29.699118</td>\n",
              "      <td>0.523008</td>\n",
              "      <td>0.381594</td>\n",
              "      <td>32.204208</td>\n",
              "    </tr>\n",
              "    <tr>\n",
              "      <th>std</th>\n",
              "      <td>257.353842</td>\n",
              "      <td>0.486592</td>\n",
              "      <td>0.836071</td>\n",
              "      <td>14.526497</td>\n",
              "      <td>1.102743</td>\n",
              "      <td>0.806057</td>\n",
              "      <td>49.693429</td>\n",
              "    </tr>\n",
              "    <tr>\n",
              "      <th>min</th>\n",
              "      <td>1.000000</td>\n",
              "      <td>0.000000</td>\n",
              "      <td>1.000000</td>\n",
              "      <td>0.420000</td>\n",
              "      <td>0.000000</td>\n",
              "      <td>0.000000</td>\n",
              "      <td>0.000000</td>\n",
              "    </tr>\n",
              "    <tr>\n",
              "      <th>25%</th>\n",
              "      <td>223.500000</td>\n",
              "      <td>0.000000</td>\n",
              "      <td>2.000000</td>\n",
              "      <td>20.125000</td>\n",
              "      <td>0.000000</td>\n",
              "      <td>0.000000</td>\n",
              "      <td>7.910400</td>\n",
              "    </tr>\n",
              "    <tr>\n",
              "      <th>50%</th>\n",
              "      <td>446.000000</td>\n",
              "      <td>0.000000</td>\n",
              "      <td>3.000000</td>\n",
              "      <td>28.000000</td>\n",
              "      <td>0.000000</td>\n",
              "      <td>0.000000</td>\n",
              "      <td>14.454200</td>\n",
              "    </tr>\n",
              "    <tr>\n",
              "      <th>75%</th>\n",
              "      <td>668.500000</td>\n",
              "      <td>1.000000</td>\n",
              "      <td>3.000000</td>\n",
              "      <td>38.000000</td>\n",
              "      <td>1.000000</td>\n",
              "      <td>0.000000</td>\n",
              "      <td>31.000000</td>\n",
              "    </tr>\n",
              "    <tr>\n",
              "      <th>max</th>\n",
              "      <td>891.000000</td>\n",
              "      <td>1.000000</td>\n",
              "      <td>3.000000</td>\n",
              "      <td>80.000000</td>\n",
              "      <td>8.000000</td>\n",
              "      <td>6.000000</td>\n",
              "      <td>512.329200</td>\n",
              "    </tr>\n",
              "  </tbody>\n",
              "</table>\n",
              "</div>\n",
              "    <div class=\"colab-df-buttons\">\n",
              "\n",
              "  <div class=\"colab-df-container\">\n",
              "    <button class=\"colab-df-convert\" onclick=\"convertToInteractive('df-2234ca41-b17e-46d0-985c-16a4ca25dc0b')\"\n",
              "            title=\"Convert this dataframe to an interactive table.\"\n",
              "            style=\"display:none;\">\n",
              "\n",
              "  <svg xmlns=\"http://www.w3.org/2000/svg\" height=\"24px\" viewBox=\"0 -960 960 960\">\n",
              "    <path d=\"M120-120v-720h720v720H120Zm60-500h600v-160H180v160Zm220 220h160v-160H400v160Zm0 220h160v-160H400v160ZM180-400h160v-160H180v160Zm440 0h160v-160H620v160ZM180-180h160v-160H180v160Zm440 0h160v-160H620v160Z\"/>\n",
              "  </svg>\n",
              "    </button>\n",
              "\n",
              "  <style>\n",
              "    .colab-df-container {\n",
              "      display:flex;\n",
              "      gap: 12px;\n",
              "    }\n",
              "\n",
              "    .colab-df-convert {\n",
              "      background-color: #E8F0FE;\n",
              "      border: none;\n",
              "      border-radius: 50%;\n",
              "      cursor: pointer;\n",
              "      display: none;\n",
              "      fill: #1967D2;\n",
              "      height: 32px;\n",
              "      padding: 0 0 0 0;\n",
              "      width: 32px;\n",
              "    }\n",
              "\n",
              "    .colab-df-convert:hover {\n",
              "      background-color: #E2EBFA;\n",
              "      box-shadow: 0px 1px 2px rgba(60, 64, 67, 0.3), 0px 1px 3px 1px rgba(60, 64, 67, 0.15);\n",
              "      fill: #174EA6;\n",
              "    }\n",
              "\n",
              "    .colab-df-buttons div {\n",
              "      margin-bottom: 4px;\n",
              "    }\n",
              "\n",
              "    [theme=dark] .colab-df-convert {\n",
              "      background-color: #3B4455;\n",
              "      fill: #D2E3FC;\n",
              "    }\n",
              "\n",
              "    [theme=dark] .colab-df-convert:hover {\n",
              "      background-color: #434B5C;\n",
              "      box-shadow: 0px 1px 3px 1px rgba(0, 0, 0, 0.15);\n",
              "      filter: drop-shadow(0px 1px 2px rgba(0, 0, 0, 0.3));\n",
              "      fill: #FFFFFF;\n",
              "    }\n",
              "  </style>\n",
              "\n",
              "    <script>\n",
              "      const buttonEl =\n",
              "        document.querySelector('#df-2234ca41-b17e-46d0-985c-16a4ca25dc0b button.colab-df-convert');\n",
              "      buttonEl.style.display =\n",
              "        google.colab.kernel.accessAllowed ? 'block' : 'none';\n",
              "\n",
              "      async function convertToInteractive(key) {\n",
              "        const element = document.querySelector('#df-2234ca41-b17e-46d0-985c-16a4ca25dc0b');\n",
              "        const dataTable =\n",
              "          await google.colab.kernel.invokeFunction('convertToInteractive',\n",
              "                                                    [key], {});\n",
              "        if (!dataTable) return;\n",
              "\n",
              "        const docLinkHtml = 'Like what you see? Visit the ' +\n",
              "          '<a target=\"_blank\" href=https://colab.research.google.com/notebooks/data_table.ipynb>data table notebook</a>'\n",
              "          + ' to learn more about interactive tables.';\n",
              "        element.innerHTML = '';\n",
              "        dataTable['output_type'] = 'display_data';\n",
              "        await google.colab.output.renderOutput(dataTable, element);\n",
              "        const docLink = document.createElement('div');\n",
              "        docLink.innerHTML = docLinkHtml;\n",
              "        element.appendChild(docLink);\n",
              "      }\n",
              "    </script>\n",
              "  </div>\n",
              "\n",
              "\n",
              "<div id=\"df-fd11dc52-8f0b-4179-ac17-e2ccc18622c4\">\n",
              "  <button class=\"colab-df-quickchart\" onclick=\"quickchart('df-fd11dc52-8f0b-4179-ac17-e2ccc18622c4')\"\n",
              "            title=\"Suggest charts.\"\n",
              "            style=\"display:none;\">\n",
              "\n",
              "<svg xmlns=\"http://www.w3.org/2000/svg\" height=\"24px\"viewBox=\"0 0 24 24\"\n",
              "     width=\"24px\">\n",
              "    <g>\n",
              "        <path d=\"M19 3H5c-1.1 0-2 .9-2 2v14c0 1.1.9 2 2 2h14c1.1 0 2-.9 2-2V5c0-1.1-.9-2-2-2zM9 17H7v-7h2v7zm4 0h-2V7h2v10zm4 0h-2v-4h2v4z\"/>\n",
              "    </g>\n",
              "</svg>\n",
              "  </button>\n",
              "\n",
              "<style>\n",
              "  .colab-df-quickchart {\n",
              "      --bg-color: #E8F0FE;\n",
              "      --fill-color: #1967D2;\n",
              "      --hover-bg-color: #E2EBFA;\n",
              "      --hover-fill-color: #174EA6;\n",
              "      --disabled-fill-color: #AAA;\n",
              "      --disabled-bg-color: #DDD;\n",
              "  }\n",
              "\n",
              "  [theme=dark] .colab-df-quickchart {\n",
              "      --bg-color: #3B4455;\n",
              "      --fill-color: #D2E3FC;\n",
              "      --hover-bg-color: #434B5C;\n",
              "      --hover-fill-color: #FFFFFF;\n",
              "      --disabled-bg-color: #3B4455;\n",
              "      --disabled-fill-color: #666;\n",
              "  }\n",
              "\n",
              "  .colab-df-quickchart {\n",
              "    background-color: var(--bg-color);\n",
              "    border: none;\n",
              "    border-radius: 50%;\n",
              "    cursor: pointer;\n",
              "    display: none;\n",
              "    fill: var(--fill-color);\n",
              "    height: 32px;\n",
              "    padding: 0;\n",
              "    width: 32px;\n",
              "  }\n",
              "\n",
              "  .colab-df-quickchart:hover {\n",
              "    background-color: var(--hover-bg-color);\n",
              "    box-shadow: 0 1px 2px rgba(60, 64, 67, 0.3), 0 1px 3px 1px rgba(60, 64, 67, 0.15);\n",
              "    fill: var(--button-hover-fill-color);\n",
              "  }\n",
              "\n",
              "  .colab-df-quickchart-complete:disabled,\n",
              "  .colab-df-quickchart-complete:disabled:hover {\n",
              "    background-color: var(--disabled-bg-color);\n",
              "    fill: var(--disabled-fill-color);\n",
              "    box-shadow: none;\n",
              "  }\n",
              "\n",
              "  .colab-df-spinner {\n",
              "    border: 2px solid var(--fill-color);\n",
              "    border-color: transparent;\n",
              "    border-bottom-color: var(--fill-color);\n",
              "    animation:\n",
              "      spin 1s steps(1) infinite;\n",
              "  }\n",
              "\n",
              "  @keyframes spin {\n",
              "    0% {\n",
              "      border-color: transparent;\n",
              "      border-bottom-color: var(--fill-color);\n",
              "      border-left-color: var(--fill-color);\n",
              "    }\n",
              "    20% {\n",
              "      border-color: transparent;\n",
              "      border-left-color: var(--fill-color);\n",
              "      border-top-color: var(--fill-color);\n",
              "    }\n",
              "    30% {\n",
              "      border-color: transparent;\n",
              "      border-left-color: var(--fill-color);\n",
              "      border-top-color: var(--fill-color);\n",
              "      border-right-color: var(--fill-color);\n",
              "    }\n",
              "    40% {\n",
              "      border-color: transparent;\n",
              "      border-right-color: var(--fill-color);\n",
              "      border-top-color: var(--fill-color);\n",
              "    }\n",
              "    60% {\n",
              "      border-color: transparent;\n",
              "      border-right-color: var(--fill-color);\n",
              "    }\n",
              "    80% {\n",
              "      border-color: transparent;\n",
              "      border-right-color: var(--fill-color);\n",
              "      border-bottom-color: var(--fill-color);\n",
              "    }\n",
              "    90% {\n",
              "      border-color: transparent;\n",
              "      border-bottom-color: var(--fill-color);\n",
              "    }\n",
              "  }\n",
              "</style>\n",
              "\n",
              "  <script>\n",
              "    async function quickchart(key) {\n",
              "      const quickchartButtonEl =\n",
              "        document.querySelector('#' + key + ' button');\n",
              "      quickchartButtonEl.disabled = true;  // To prevent multiple clicks.\n",
              "      quickchartButtonEl.classList.add('colab-df-spinner');\n",
              "      try {\n",
              "        const charts = await google.colab.kernel.invokeFunction(\n",
              "            'suggestCharts', [key], {});\n",
              "      } catch (error) {\n",
              "        console.error('Error during call to suggestCharts:', error);\n",
              "      }\n",
              "      quickchartButtonEl.classList.remove('colab-df-spinner');\n",
              "      quickchartButtonEl.classList.add('colab-df-quickchart-complete');\n",
              "    }\n",
              "    (() => {\n",
              "      let quickchartButtonEl =\n",
              "        document.querySelector('#df-fd11dc52-8f0b-4179-ac17-e2ccc18622c4 button');\n",
              "      quickchartButtonEl.style.display =\n",
              "        google.colab.kernel.accessAllowed ? 'block' : 'none';\n",
              "    })();\n",
              "  </script>\n",
              "</div>\n",
              "    </div>\n",
              "  </div>\n"
            ]
          },
          "metadata": {},
          "execution_count": 71
        }
      ]
    },
    {
      "cell_type": "code",
      "source": [
        "train['Survived'].value_counts()"
      ],
      "metadata": {
        "colab": {
          "base_uri": "https://localhost:8080/"
        },
        "id": "0xDRQ2j-Lh-t",
        "outputId": "3bb3aacf-bc08-4092-d82f-d3e7d4f933d8"
      },
      "execution_count": null,
      "outputs": [
        {
          "output_type": "execute_result",
          "data": {
            "text/plain": [
              "0    549\n",
              "1    342\n",
              "Name: Survived, dtype: int64"
            ]
          },
          "metadata": {},
          "execution_count": 72
        }
      ]
    },
    {
      "cell_type": "code",
      "source": [
        "train['Sex'].value_counts()"
      ],
      "metadata": {
        "colab": {
          "base_uri": "https://localhost:8080/"
        },
        "id": "maPnXijBLrto",
        "outputId": "0f9a3c64-f5d9-4d8f-c114-e73f4a234988"
      },
      "execution_count": null,
      "outputs": [
        {
          "output_type": "execute_result",
          "data": {
            "text/plain": [
              "male      577\n",
              "female    314\n",
              "Name: Sex, dtype: int64"
            ]
          },
          "metadata": {},
          "execution_count": 73
        }
      ]
    },
    {
      "cell_type": "code",
      "source": [
        "fig, ax = plt.subplots(1, 2, figsize=(12, 5))\n",
        "sns.countplot(x='Survived', data=train, ax=ax[0])\n",
        "ax[0].set_title('Survivors (1) and the dead (0)')\n",
        "ax[0].set_ylabel('')\n",
        "sns.countplot(x='Survived', data=train, ax=ax[1])\n",
        "ax[1].set_ylabel('Quantity')\n",
        "ax[1].set_title('Survivors (1) and the dead (0)')\n",
        "plt.show()"
      ],
      "metadata": {
        "colab": {
          "base_uri": "https://localhost:8080/",
          "height": 484
        },
        "id": "SRsEDwmM_qdj",
        "outputId": "971dab01-5f61-4bb9-f7f8-935ad71ef9e7"
      },
      "execution_count": null,
      "outputs": [
        {
          "output_type": "display_data",
          "data": {
            "text/plain": [
              "<Figure size 1200x500 with 2 Axes>"
            ],
            "image/png": "[encoded data removed]"
          },
          "metadata": {}
        }
      ]
    },
    {
      "cell_type": "code",
      "source": [
        "f, ax = plt.subplots(1, 2, figsize=(12, 4))\n",
        "train[['Sex', 'Survived']].groupby(['Sex']).mean().plot.bar(ax=ax[0])\n",
        "ax[0].set_title('Survivors by Gender')\n",
        "ax[0].set_xlabel('Gender')\n",
        "sns.countplot(x='Sex', hue='Survived', data=train, ax=ax[1])\n",
        "ax[1].set_ylabel('Quantity')\n",
        "ax[1].set_title('Survivors by Gender')\n",
        "ax[1].set_xlabel('Gender')\n",
        "plt.show()"
      ],
      "metadata": {
        "colab": {
          "base_uri": "https://localhost:8080/",
          "height": 457
        },
        "id": "1gdveN3Z_vYR",
        "outputId": "f2aaf852-a459-4ac6-9077-ed1f3bb5a6e1"
      },
      "execution_count": null,
      "outputs": [
        {
          "output_type": "display_data",
          "data": {
            "text/plain": [
              "<Figure size 1200x400 with 2 Axes>"
            ],
            "image/png": "[encoded data removed]"
          },
          "metadata": {}
        }
      ]
    },
    {
      "cell_type": "code",
      "source": [
        "sns.countplot(x='Pclass', data=train)\n",
        "plt.title('Countplot of Pclass')\n",
        "plt.xlabel('Pclass')\n",
        "plt.ylabel('Count')\n",
        "plt.show()"
      ],
      "metadata": {
        "colab": {
          "base_uri": "https://localhost:8080/",
          "height": 508
        },
        "id": "p33guzo6Ml5k",
        "outputId": "65874d71-b064-4947-cbbe-40a55b74e33b"
      },
      "execution_count": null,
      "outputs": [
        {
          "output_type": "display_data",
          "data": {
            "text/plain": [
              "<Figure size 640x480 with 1 Axes>"
            ],
            "image/png": "[encoded data removed]"
          },
          "metadata": {}
        }
      ]
    },
    {
      "cell_type": "code",
      "source": [
        "sns.countplot(x='Pclass', hue='Survived', data=train)\n",
        "plt.xlabel('Pclass')\n",
        "plt.ylabel('Count')\n",
        "plt.show()"
      ],
      "metadata": {
        "colab": {
          "base_uri": "https://localhost:8080/",
          "height": 478
        },
        "id": "JiC7a10hM3xQ",
        "outputId": "58eeb5b1-6b77-40c4-b293-b17884bfd209"
      },
      "execution_count": null,
      "outputs": [
        {
          "output_type": "display_data",
          "data": {
            "text/plain": [
              "<Figure size 640x480 with 1 Axes>"
            ],
            "image/png": "[encoded data removed]"
          },
          "metadata": {}
        }
      ]
    },
    {
      "cell_type": "code",
      "source": [
        "train[\"CabinBool\"] = (train[\"Cabin\"].notnull().astype('int'))\n",
        "test[\"CabinBool\"] = (test[\"Cabin\"].notnull().astype('int'))\n",
        "train = train.drop(['Cabin'], axis=1)\n",
        "test = test.drop(['Cabin'], axis=1)"
      ],
      "metadata": {
        "id": "AzRqYJia_5xP"
      },
      "execution_count": null,
      "outputs": []
    },
    {
      "cell_type": "code",
      "source": [
        "train = train.drop(['Ticket'], axis=1)\n",
        "test = test.drop(['Ticket'], axis=1)"
      ],
      "metadata": {
        "id": "JQhOsz-cAIHX"
      },
      "execution_count": null,
      "outputs": []
    },
    {
      "cell_type": "code",
      "source": [
        "train = train.fillna({\"Embarked\": \"S\"})"
      ],
      "metadata": {
        "id": "orAEJOy3AfBZ"
      },
      "execution_count": null,
      "outputs": []
    },
    {
      "cell_type": "code",
      "source": [
        "train[\"Age\"] = train[\"Age\"].fillna(-0.5)\n",
        "test[\"Age\"] = test[\"Age\"].fillna(-0.5)\n",
        "bins = [-1, 0, 5, 12, 18, 24, 35, 60, np.inf]\n",
        "labels = ['Unknown', 'Baby', 'Child', 'Teenager',\n",
        "\t\t'Student', 'Young Adult', 'Adult', 'Senior']\n",
        "train['AgeGroup'] = pd.cut(train[\"Age\"], bins, labels=labels)\n",
        "test['AgeGroup'] = pd.cut(test[\"Age\"], bins, labels=labels)"
      ],
      "metadata": {
        "id": "Uvl9y_ktAhhs"
      },
      "execution_count": null,
      "outputs": []
    },
    {
      "cell_type": "code",
      "source": [
        "combine = [train, test]\n",
        "for dataset in combine:\n",
        "\tdataset['Title'] = dataset.Name.str.extract(' ([A-Za-z]+)\\.', expand=False)\n",
        "\n",
        "pd.crosstab(train['Title'], train['Sex'])\n",
        "for dataset in combine:\n",
        "\tdataset['Title'] = dataset['Title'].replace(['Lady', 'Capt', 'Col',\n",
        "\t\t\t\t\t\t\t\t\t\t\t\t'Don', 'Dr', 'Major',\n",
        "\t\t\t\t\t\t\t\t\t\t\t\t'Rev', 'Jonkheer', 'Dona'],\n",
        "\t\t\t\t\t\t\t\t\t\t\t\t'Rare')\n",
        "\n",
        "\tdataset['Title'] = dataset['Title'].replace(\n",
        "\t\t['Countess', 'Lady', 'Sir'], 'Royal')\n",
        "\tdataset['Title'] = dataset['Title'].replace('Mlle', 'Miss')\n",
        "\tdataset['Title'] = dataset['Title'].replace('Ms', 'Miss')\n",
        "\tdataset['Title'] = dataset['Title'].replace('Mme', 'Mrs')\n",
        "\n",
        "train[['Title', 'Survived']].groupby(['Title'], as_index=False).mean()\n",
        "title_mapping = {\"Mr\": 1, \"Miss\": 2, \"Mrs\": 3,\n",
        "\t\t\t\t\"Master\": 4, \"Royal\": 5, \"Rare\": 6}\n",
        "for dataset in combine:\n",
        "\tdataset['Title'] = dataset['Title'].map(title_mapping)\n",
        "\tdataset['Title'] = dataset['Title'].fillna(0)"
      ],
      "metadata": {
        "id": "1mRU8dtLAlBC"
      },
      "execution_count": null,
      "outputs": []
    },
    {
      "cell_type": "code",
      "source": [
        "mr_age = train[train[\"Title\"] == 1][\"AgeGroup\"].mode()\n",
        "miss_age = train[train[\"Title\"] == 2][\"AgeGroup\"].mode()\n",
        "mrs_age = train[train[\"Title\"] == 3][\"AgeGroup\"].mode()\n",
        "master_age = train[train[\"Title\"] == 4][\"AgeGroup\"].mode()\n",
        "royal_age = train[train[\"Title\"] == 5][\"AgeGroup\"].mode()\n",
        "rare_age = train[train[\"Title\"] == 6][\"AgeGroup\"].mode()\n",
        "\n",
        "age_title_mapping = {1: \"Young Adult\", 2: \"Student\",\n",
        "\t\t\t\t\t3: \"Adult\", 4: \"Baby\", 5: \"Adult\", 6: \"Adult\"}\n",
        "\n",
        "for x in range(len(train[\"AgeGroup\"])):\n",
        "\tif train[\"AgeGroup\"][x] == \"Unknown\":\n",
        "\t\ttrain[\"AgeGroup\"][x] = age_title_mapping[train[\"Title\"][x]]\n",
        "\n",
        "for x in range(len(test[\"AgeGroup\"])):\n",
        "\tif test[\"AgeGroup\"][x] == \"Unknown\":\n",
        "\t\ttest[\"AgeGroup\"][x] = age_title_mapping[test[\"Title\"][x]]"
      ],
      "metadata": {
        "id": "D0pNmX4KAoef"
      },
      "execution_count": null,
      "outputs": []
    },
    {
      "cell_type": "code",
      "source": [
        "age_mapping = {'Baby': 1, 'Child': 2, 'Teenager': 3,\n",
        "\t\t\t'Student': 4, 'Young Adult': 5, 'Adult': 6,\n",
        "\t\t\t'Senior': 7}\n",
        "train['AgeGroup'] = train['AgeGroup'].map(age_mapping)\n",
        "test['AgeGroup'] = test['AgeGroup'].map(age_mapping)\n",
        "\n",
        "train.head()\n",
        "train = train.drop(['Age'], axis=1)\n",
        "test = test.drop(['Age'], axis=1)\n"
      ],
      "metadata": {
        "id": "93tAcOPKAtRH"
      },
      "execution_count": null,
      "outputs": []
    },
    {
      "cell_type": "code",
      "source": [
        "train = train.drop(['Name'], axis=1)\n",
        "test = test.drop(['Name'], axis=1)\n"
      ],
      "metadata": {
        "id": "9m2KlDhvAwBB"
      },
      "execution_count": null,
      "outputs": []
    },
    {
      "cell_type": "code",
      "source": [
        "sex_mapping = {\"male\": 0, \"female\": 1}\n",
        "train['Sex'] = train['Sex'].map(sex_mapping)\n",
        "test['Sex'] = test['Sex'].map(sex_mapping)\n",
        "\n",
        "embarked_mapping = {\"S\": 1, \"C\": 2, \"Q\": 3}\n",
        "train['Embarked'] = train['Embarked'].map(embarked_mapping)\n",
        "test['Embarked'] = test['Embarked'].map(embarked_mapping)\n"
      ],
      "metadata": {
        "id": "KA8UorY-A1IB"
      },
      "execution_count": null,
      "outputs": []
    },
    {
      "cell_type": "code",
      "source": [
        "for x in range(len(test[\"Fare\"])):\n",
        "\tif pd.isnull(test[\"Fare\"][x]):\n",
        "\t\tpclass = test[\"Pclass\"][x] # Pclass = 3\n",
        "\t\ttest[\"Fare\"][x] = round(\n",
        "\t\t\ttrain[train[\"Pclass\"] == pclass][\"Fare\"].mean(), 4)\n",
        "train['FareBand'] = pd.qcut(train['Fare'], 4,\n",
        "\t\t\t\t\t\t\tlabels=[1, 2, 3, 4])\n",
        "test['FareBand'] = pd.qcut(test['Fare'], 4,\n",
        "\t\t\t\t\t\tlabels=[1, 2, 3, 4])\n",
        "train = train.drop(['Fare'], axis=1)\n",
        "test = test.drop(['Fare'], axis=1)\n"
      ],
      "metadata": {
        "id": "fAw62WG1A4je"
      },
      "execution_count": null,
      "outputs": []
    },
    {
      "cell_type": "code",
      "source": [
        "from sklearn.model_selection import train_test_split\n",
        "predictors = train.drop(['Survived', 'PassengerId'], axis=1)\n",
        "target = train[\"Survived\"]\n",
        "x_train, x_val, y_train, y_val = train_test_split(\n",
        "\tpredictors, target, test_size=0.2, random_state=0)\n"
      ],
      "metadata": {
        "id": "f5pj4bORA7nk"
      },
      "execution_count": null,
      "outputs": []
    },
    {
      "cell_type": "code",
      "source": [
        "from sklearn.ensemble import RandomForestClassifier\n",
        "from sklearn.metrics import accuracy_score\n",
        "randomforest = RandomForestClassifier()\n",
        "randomforest.fit(x_train, y_train)\n",
        "y_pred = randomforest.predict(x_val)\n",
        "acc_randomforest = round(accuracy_score(y_pred, y_val) * 100, 2)\n",
        "print(acc_randomforest)"
      ],
      "metadata": {
        "colab": {
          "base_uri": "https://localhost:8080/"
        },
        "id": "p0hNhw_TA9Ti",
        "outputId": "dde657cd-0c75-48ad-b224-80852932b9d4"
      },
      "execution_count": null,
      "outputs": [
        {
          "output_type": "stream",
          "name": "stdout",
          "text": [
            "84.36\n"
          ]
        }
      ]
    },
    {
      "cell_type": "code",
      "source": [
        "ids = test['PassengerId']\n",
        "predictions = randomforest.predict(test.drop('PassengerId', axis=1))\n",
        "output = pd.DataFrame({'PassengerId': ids, 'Survived': predictions})\n",
        "output.to_csv('resultfile.csv', index=False)\n",
        "output.to_csv('documnets.csv', index=False)\n",
        "print(output)"
      ],
      "metadata": {
        "colab": {
          "base_uri": "https://localhost:8080/"
        },
        "id": "DeD5dshxA_mK",
        "outputId": "3e0d73d1-c9b2-47d3-d790-e6a065439d1c"
      },
      "execution_count": null,
      "outputs": [
        {
          "output_type": "stream",
          "name": "stdout",
          "text": [
            "     PassengerId  Survived\n",
            "0            892         0\n",
            "1            893         1\n",
            "2            894         0\n",
            "3            895         0\n",
            "4            896         0\n",
            "..           ...       ...\n",
            "413         1305         0\n",
            "414         1306         1\n",
            "415         1307         0\n",
            "416         1308         0\n",
            "417         1309         1\n",
            "\n",
            "[418 rows x 2 columns]\n"
          ]
        }
      ]
    },
    {
      "cell_type": "code",
      "source": [
        "print(output['Survived'].value_counts())"
      ],
      "metadata": {
        "colab": {
          "base_uri": "https://localhost:8080/"
        },
        "id": "rFy27k26BBwg",
        "outputId": "5cb09b90-a608-4fd3-c551-1f849f515af7"
      },
      "execution_count": null,
      "outputs": [
        {
          "output_type": "stream",
          "name": "stdout",
          "text": [
            "0    258\n",
            "1    160\n",
            "Name: Survived, dtype: int64\n"
          ]
        }
      ]
    }
  ]
}